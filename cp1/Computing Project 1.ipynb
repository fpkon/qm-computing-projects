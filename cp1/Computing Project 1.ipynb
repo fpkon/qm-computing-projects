{
 "cells": [
  {
   "cell_type": "markdown",
   "metadata": {},
   "source": [
    "Representing Complex Numbers Visually with VPython\n",
    "===========================\n",
    "\n",
    "One of the primary learning goals of this course is for you to develop an intuitive understanding\n",
    "of what it means to *do* quantum mechanics and how the machinery works. I have found that\n",
    "it helps many students to have a concrete visual image or *representation* of what's going on. \n",
    "Since quantum mechanical probability amplitudes are actually complex numbers, it's necessary\n",
    "to have a visual representation of a complex number. \n",
    "\n",
    "Preliminaries\n",
    "-------------\n",
    "\n",
    "Since this is our first VPython project we'll need a few preliminaries to get started. First we need\n",
    "to learn a bit about python object types and some python syntax. For our purposes this week there are basically only a \n",
    "few important types: scalers, lists, and 3D objects. We'll discover some other types in later projects.\n",
    "\n",
    "Scalers\n",
    "-------\n",
    "\n",
    "Scalers are just regular old numbers:"
   ]
  },
  {
   "cell_type": "code",
   "execution_count": 1,
   "metadata": {},
   "outputs": [
    {
     "name": "stdout",
     "output_type": "stream",
     "text": [
      "3 2.0 (4+3j) 1j (4.2-2.4j)\n",
      "4.0 3.0\n",
      "25.0\n"
     ]
    }
   ],
   "source": [
    "x = 3\n",
    "y = 2.0\n",
    "z = 4 + 3j\n",
    "i=1j\n",
    "w = 4.2 - 2.4*i\n",
    "print(x, y, z, i, w)\n",
    "print(z.real, z.imag)\n",
    "print(abs(z)**2)\n"
   ]
  },
  {
   "cell_type": "markdown",
   "metadata": {},
   "source": [
    "Lists (and Tuples)\n",
    "------------------\n",
    "\n",
    "Lists are a kind collection that have a definite order. An example of a list is:"
   ]
  },
  {
   "cell_type": "code",
   "execution_count": 2,
   "metadata": {},
   "outputs": [
    {
     "data": {
      "text/plain": [
       "[1, 9, 4, 5]"
      ]
     },
     "execution_count": 2,
     "metadata": {},
     "output_type": "execute_result"
    }
   ],
   "source": [
    "x = [1,9,4,5]\n",
    "x"
   ]
  },
  {
   "cell_type": "markdown",
   "metadata": {},
   "source": [
    "Because the list has a certain order, you can reliably retrieve objects from the list based on their place in the list. The \"list place\" is called the \"index\". Like the \"c\" language, python begins list indices at the value \"0\". So, if you asked for the 2nd element of this list, you'd get the number \"4\", not \"9\" as you might expect."
   ]
  },
  {
   "cell_type": "code",
   "execution_count": 3,
   "metadata": {},
   "outputs": [
    {
     "name": "stdout",
     "output_type": "stream",
     "text": [
      "x[0] -> 1\n",
      "x[1] -> 9\n",
      "x[2] -> 4\n",
      "x[3] -> 5\n"
     ]
    }
   ],
   "source": [
    "x = [1,9,4,5]\n",
    "print(\"x[0] ->\", x[0])\n",
    "print(\"x[1] ->\", x[1])\n",
    "print(\"x[2] ->\", x[2])\n",
    "print(\"x[3] ->\", x[3])\n"
   ]
  },
  {
   "cell_type": "markdown",
   "metadata": {},
   "source": [
    "You can add things to the end of a list with the \"append\" method and insert things into the beginning\n",
    "or middle of a list with the \"insert\" method. If you type the commands that follow into a python shell, you'll get\n",
    "the output shown:"
   ]
  },
  {
   "cell_type": "code",
   "execution_count": 4,
   "metadata": {},
   "outputs": [
    {
     "name": "stdout",
     "output_type": "stream",
     "text": [
      "[1, 9, 4, 5, 7]\n",
      "[2, 1, 9, 4, 5, 7]\n",
      "[2, 1, 9, 8, 4, 5, 7]\n"
     ]
    }
   ],
   "source": [
    "x = [1,9,4,5]\n",
    "x.append(7)\n",
    "print(x)\n",
    "x.insert(0, 2)\n",
    "print(x)\n",
    "x.insert(3,8)\n",
    "print(x)"
   ]
  },
  {
   "cell_type": "markdown",
   "metadata": {},
   "source": [
    "A \"Tuple\" is just like a list except that it can't be changed once it's created, so it's an \"immutable\" list. While you create lists using the \"[]\" (square bracket) delimiters, to make a tuple you just use parenthesis: \"()\", like so:\n"
   ]
  },
  {
   "cell_type": "code",
   "execution_count": 5,
   "metadata": {},
   "outputs": [
    {
     "data": {
      "text/plain": [
       "(1, 9, 4, 5)"
      ]
     },
     "execution_count": 5,
     "metadata": {},
     "output_type": "execute_result"
    }
   ],
   "source": [
    "x = (1,9,4,5)\n",
    "x"
   ]
  },
  {
   "cell_type": "markdown",
   "metadata": {},
   "source": [
    "3D Objects\n",
    "----------\n",
    "\n",
    "3D objects are geometrical objects that can be seen on the computer display, such as a \"sphere\", \"box\", \"arrow\" and so on. You will find documentation for these on the vpython web site, or in the \"help\" menu of your IDE (called VIdle). You create 3D objects by first importing the \"vpython\" module like so:\n"
   ]
  },
  {
   "cell_type": "code",
   "execution_count": 7,
   "metadata": {},
   "outputs": [
    {
     "data": {
      "application/javascript": [
       "require.undef(\"nbextensions/vpython_libraries/glow.min\");"
      ],
      "text/plain": [
       "<IPython.core.display.Javascript object>"
      ]
     },
     "metadata": {},
     "output_type": "display_data"
    },
    {
     "data": {
      "application/javascript": [
       "require.undef(\"nbextensions/vpython_libraries/glowcomm\");"
      ],
      "text/plain": [
       "<IPython.core.display.Javascript object>"
      ]
     },
     "metadata": {},
     "output_type": "display_data"
    },
    {
     "data": {
      "application/javascript": [
       "require.undef(\"nbextensions/vpython_libraries/jquery-ui.custom.min\");"
      ],
      "text/plain": [
       "<IPython.core.display.Javascript object>"
      ]
     },
     "metadata": {},
     "output_type": "display_data"
    },
    {
     "data": {
      "application/javascript": [
       "require([\"nbextensions/vpython_libraries/glow.min\"], function(){console.log(\"GLOW LOADED\");})"
      ],
      "text/plain": [
       "<IPython.core.display.Javascript object>"
      ]
     },
     "metadata": {},
     "output_type": "display_data"
    },
    {
     "data": {
      "application/javascript": [
       "require([\"nbextensions/vpython_libraries/glowcomm\"], function(){console.log(\"GLOWCOMM LOADED\");})"
      ],
      "text/plain": [
       "<IPython.core.display.Javascript object>"
      ]
     },
     "metadata": {},
     "output_type": "display_data"
    },
    {
     "data": {
      "application/javascript": [
       "require([\"nbextensions/vpython_libraries/jquery-ui.custom.min\"], function(){console.log(\"JQUERY LOADED\");})"
      ],
      "text/plain": [
       "<IPython.core.display.Javascript object>"
      ]
     },
     "metadata": {},
     "output_type": "display_data"
    }
   ],
   "source": [
    "from vpython import *\n",
    "canvas()"
   ]
  },
  {
   "cell_type": "markdown",
   "metadata": {
    "collapsed": true
   },
   "source": [
    "For the purposes of this project the only object we'll be using is the \"arrow\". Remember that a complex number can be visualized as a \"phasor\" and a phasor is basically an arrow!  Below you'll see python code that creates a red arrow of length 1 pointing in the +y direction and a blue arrow of length 2 pointing in the +x direction.\n"
   ]
  },
  {
   "cell_type": "code",
   "execution_count": 6,
   "metadata": {},
   "outputs": [
    {
     "name": "stdout",
     "output_type": "stream",
     "text": [
      "ERROR! Session/line number was not unique in database. History logging moved to new session 991\n"
     ]
    },
    {
     "ename": "NameError",
     "evalue": "name 'arrow' is not defined",
     "output_type": "error",
     "traceback": [
      "\u001b[0;31m---------------------------------------------------------------------------\u001b[0m",
      "\u001b[0;31mNameError\u001b[0m                                 Traceback (most recent call last)",
      "\u001b[0;32m<ipython-input-6-bad0216a9aa7>\u001b[0m in \u001b[0;36m<module>\u001b[0;34m()\u001b[0m\n\u001b[0;32m----> 1\u001b[0;31m \u001b[0ma\u001b[0m \u001b[0;34m=\u001b[0m \u001b[0marrow\u001b[0m\u001b[0;34m(\u001b[0m\u001b[0;34m)\u001b[0m\u001b[0;34m\u001b[0m\u001b[0m\n\u001b[0m\u001b[1;32m      2\u001b[0m \u001b[0ma\u001b[0m\u001b[0;34m.\u001b[0m\u001b[0maxis\u001b[0m \u001b[0;34m=\u001b[0m \u001b[0mvector\u001b[0m\u001b[0;34m(\u001b[0m\u001b[0;36m0\u001b[0m\u001b[0;34m,\u001b[0m\u001b[0;36m1\u001b[0m\u001b[0;34m,\u001b[0m\u001b[0;36m0\u001b[0m\u001b[0;34m)\u001b[0m\u001b[0;34m\u001b[0m\u001b[0m\n\u001b[1;32m      3\u001b[0m \u001b[0ma\u001b[0m\u001b[0;34m.\u001b[0m\u001b[0mcolor\u001b[0m \u001b[0;34m=\u001b[0m \u001b[0mcolor\u001b[0m\u001b[0;34m.\u001b[0m\u001b[0mred\u001b[0m\u001b[0;34m\u001b[0m\u001b[0m\n\u001b[1;32m      4\u001b[0m \u001b[0mb\u001b[0m \u001b[0;34m=\u001b[0m \u001b[0marrow\u001b[0m\u001b[0;34m(\u001b[0m\u001b[0maxis\u001b[0m\u001b[0;34m=\u001b[0m\u001b[0mvector\u001b[0m\u001b[0;34m(\u001b[0m\u001b[0;36m2\u001b[0m\u001b[0;34m,\u001b[0m\u001b[0;36m0\u001b[0m\u001b[0;34m,\u001b[0m\u001b[0;36m0\u001b[0m\u001b[0;34m)\u001b[0m\u001b[0;34m,\u001b[0m \u001b[0mcolor\u001b[0m\u001b[0;34m=\u001b[0m\u001b[0mcolor\u001b[0m\u001b[0;34m.\u001b[0m\u001b[0mblue\u001b[0m\u001b[0;34m)\u001b[0m\u001b[0;34m\u001b[0m\u001b[0m\n",
      "\u001b[0;31mNameError\u001b[0m: name 'arrow' is not defined"
     ]
    },
    {
     "data": {
      "text/html": [
       "<div id=\"glowscript\" class=\"glowscript\"></div>"
      ],
      "text/plain": [
       "<IPython.core.display.HTML object>"
      ]
     },
     "metadata": {},
     "output_type": "display_data"
    },
    {
     "data": {
      "application/javascript": [
       "window.__context = { glowscript_container: $(\"#glowscript\").removeAttr(\"id\")}"
      ],
      "text/plain": [
       "<IPython.core.display.Javascript object>"
      ]
     },
     "metadata": {},
     "output_type": "display_data"
    },
    {
     "data": {
      "text/html": [
       "<div id=\"glowscript\" class=\"glowscript\"></div>"
      ],
      "text/plain": [
       "<IPython.core.display.HTML object>"
      ]
     },
     "metadata": {},
     "output_type": "display_data"
    },
    {
     "data": {
      "application/javascript": [
       "window.__context = { glowscript_container: $(\"#glowscript\").removeAttr(\"id\")}"
      ],
      "text/plain": [
       "<IPython.core.display.Javascript object>"
      ]
     },
     "metadata": {},
     "output_type": "display_data"
    }
   ],
   "source": [
    "a = arrow()\n",
    "a.axis = vector(0,1,0)\n",
    "a.color = color.red\n",
    "b = arrow(axis=vector(2,0,0), color=color.blue)"
   ]
  },
  {
   "cell_type": "markdown",
   "metadata": {},
   "source": [
    "Flow Control\n",
    "------------\n",
    "\n",
    "In order to have the program repeat a procedure many times we'll need to\n",
    "learn some python \"flow control\". This just means the programs we write\n",
    "will need to have loops that depend on various conditions. The most basic\n",
    "loop in python is the \"while\" loop. Here is a simple example:"
   ]
  },
  {
   "cell_type": "code",
   "execution_count": null,
   "metadata": {
    "collapsed": true
   },
   "outputs": [],
   "source": [
    "x = 1.0\n",
    "print(\"before loop, x is:\", x)\n",
    "while x < 5.0:\n",
    "    print(x)\n",
    "    x = x + 1.0\n",
    "\n",
    "print(\"loop finished.\")\n",
    "print(\"x is now:\",x)\n",
    "\n"
   ]
  },
  {
   "cell_type": "markdown",
   "metadata": {},
   "source": [
    "Another common loop is the \"for\" loop. In this case python will iterate through the\n",
    "contents of a list and execute a series of statements for every element of a list.\n",
    "This can be quite handy if you already have a list you want to iterate through.\n",
    "The \"range\" function is a nice way to quickly generate lists. For example\n",
    "\"range(4)\" generates the list [0,1,2,3], the indices of a list of length 4!\n",
    "Based on that idea, see if you can figure out how this code works:"
   ]
  },
  {
   "cell_type": "code",
   "execution_count": null,
   "metadata": {
    "collapsed": true
   },
   "outputs": [],
   "source": [
    "x = [1,9,4,5]\n",
    "for i in range(4):\n",
    "    print(\"x[\",i,\"] ->\", x[i])\n"
   ]
  },
  {
   "cell_type": "markdown",
   "metadata": {},
   "source": [
    "One last point.. to keep things changing at a reasonable rate\n",
    "there is a function you can call to limit the frame rate in VPython. If you\n",
    "want your loop to exectute no more than 100 times per second, no matter how\n",
    "fast your computer, you can include \"rate(100)\" in your loop code. This\n",
    "will ensure that your program runs at a standard rate on all computers."
   ]
  },
  {
   "cell_type": "markdown",
   "metadata": {},
   "source": [
    "Functions\n",
    "---------\n",
    "\n",
    "Finally we'll want to use a function to do the busy work of making the\n",
    "real and imaginary parts of a complex number show up as the cartesian\n",
    "coordinates of the tip if our arrow. A function is just a bit of code\n",
    "that you need to run at different times. It's nice to encapsuate that\n",
    "code in a function so you can use it easily whenever you need to perform\n",
    "some task. The function we need takes a complex number `cn`\n",
    "and makes an arrow `a` represent that complex number in 3D space by\n",
    "setting the cartesian coordinates of the tip of the arrow to the real\n",
    "and imaginary parts of the complex number. The syntax looks like\n",
    "this:\n"
   ]
  },
  {
   "cell_type": "code",
   "execution_count": null,
   "metadata": {
    "collapsed": true
   },
   "outputs": [],
   "source": [
    "def SetArrowFromCN( cn, a):\n",
    "    \"\"\"\n",
    "    SetArrowWithCN takes a complex number 'cn' and an arrow object 'a'.\n",
    "    It sets the 'x' and 'y' components of the arrow's axis to the real\n",
    "    and imaginary parts of the given complex number.\n",
    "    \"\"\"\n",
    "    a.axis.x = cn.real\n",
    "    a.axis.y = cn.imag"
   ]
  },
  {
   "cell_type": "markdown",
   "metadata": {},
   "source": [
    "This seems like such a simple function that we might not even\n",
    "bother, but we'll see that it de-clutters other parts of our program\n",
    "where a little clutter can be very distracting. Notice the comment in\n",
    "triple quotes. These are very important. When you're writing your own\n",
    "functions it's always a good idea to embed comments that make your\n",
    "code easier to understand."
   ]
  },
  {
   "cell_type": "markdown",
   "metadata": {},
   "source": [
    "A Phasor getting multiplied by a small pure phase.\n",
    "-----------------------------------------------\n",
    "\n",
    "Let's say we start with a complex number like $z=2e^{i\\pi/4}$. What happens to\n",
    "that phasor if we repeatedly multiply by a complex number with magnitude of\n",
    "one, but with a small non-zero phase angle $c=e^{i\\delta}$? Let's find out!\n",
    "First let's get a good representation of our original complex number. Type in\n",
    "the following code and run it. Make sure you understand each line. If you have\n",
    "any questions, please ask. When the program runs you should see a 3D representation\n",
    "of our starting complex number. Does it look reasonable? Is it pointing\n",
    "in the right direction?\n"
   ]
  },
  {
   "cell_type": "code",
   "execution_count": 1,
   "metadata": {},
   "outputs": [
    {
     "data": {
      "application/javascript": [
       "require.undef(\"nbextensions/vpython_libraries/glow.min\");"
      ],
      "text/plain": [
       "<IPython.core.display.Javascript object>"
      ]
     },
     "metadata": {},
     "output_type": "display_data"
    },
    {
     "data": {
      "application/javascript": [
       "require.undef(\"nbextensions/vpython_libraries/glowcomm\");"
      ],
      "text/plain": [
       "<IPython.core.display.Javascript object>"
      ]
     },
     "metadata": {},
     "output_type": "display_data"
    },
    {
     "data": {
      "application/javascript": [
       "require.undef(\"nbextensions/vpython_libraries/jquery-ui.custom.min\");"
      ],
      "text/plain": [
       "<IPython.core.display.Javascript object>"
      ]
     },
     "metadata": {},
     "output_type": "display_data"
    },
    {
     "data": {
      "application/javascript": [
       "require([\"nbextensions/vpython_libraries/glow.min\"], function(){console.log(\"GLOW LOADED\");})"
      ],
      "text/plain": [
       "<IPython.core.display.Javascript object>"
      ]
     },
     "metadata": {},
     "output_type": "display_data"
    },
    {
     "data": {
      "application/javascript": [
       "require([\"nbextensions/vpython_libraries/glowcomm\"], function(){console.log(\"GLOWCOMM LOADED\");})"
      ],
      "text/plain": [
       "<IPython.core.display.Javascript object>"
      ]
     },
     "metadata": {},
     "output_type": "display_data"
    },
    {
     "data": {
      "application/javascript": [
       "require([\"nbextensions/vpython_libraries/jquery-ui.custom.min\"], function(){console.log(\"JQUERY LOADED\");})"
      ],
      "text/plain": [
       "<IPython.core.display.Javascript object>"
      ]
     },
     "metadata": {},
     "output_type": "display_data"
    },
    {
     "data": {
      "text/html": [
       "<div id=\"glowscript\" class=\"glowscript\"></div>"
      ],
      "text/plain": [
       "<IPython.core.display.HTML object>"
      ]
     },
     "metadata": {},
     "output_type": "display_data"
    },
    {
     "data": {
      "application/javascript": [
       "window.__context = { glowscript_container: $(\"#glowscript\").removeAttr(\"id\")}"
      ],
      "text/plain": [
       "<IPython.core.display.Javascript object>"
      ]
     },
     "metadata": {},
     "output_type": "display_data"
    },
    {
     "data": {
      "text/html": [
       "<div id=\"glowscript\" class=\"glowscript\"></div>"
      ],
      "text/plain": [
       "<IPython.core.display.HTML object>"
      ]
     },
     "metadata": {},
     "output_type": "display_data"
    },
    {
     "data": {
      "application/javascript": [
       "window.__context = { glowscript_container: $(\"#glowscript\").removeAttr(\"id\")}"
      ],
      "text/plain": [
       "<IPython.core.display.Javascript object>"
      ]
     },
     "metadata": {},
     "output_type": "display_data"
    }
   ],
   "source": [
    "from vpython import *\n",
    "from numpy import *\n",
    "from vpython import rate\n",
    "\n",
    "canvas()\n",
    "i=1j                            # Let's use 'i' for \"imaginary\"\n",
    "a = arrow(color=color.red)      # red is a nice color\n",
    "z = 2*exp(i*pi/4.0)\n",
    "\n",
    "def SetArrowFromCN( cn, a):\n",
    "    \"\"\"\n",
    "    SetArrowWithCN takes a complex number 'cn' and an arrow object 'a'.\n",
    "    It sets the 'x' and 'y' components of the arrow's axis to the real\n",
    "    and imaginary parts of the given complex number.\n",
    "    \"\"\"\n",
    "    a.axis.x = cn.real\n",
    "    a.axis.y = cn.imag\n",
    "\n",
    "SetArrowFromCN(z, a)\n"
   ]
  },
  {
   "cell_type": "markdown",
   "metadata": {},
   "source": [
    "Now.. time for you to write some code. Write a loop, similar to the one in the example,\n",
    "that repeatedly multiplies this complex number 'cn' by a pure phase $c=e^{i\\delta}$ where\n",
    "$\\delta$ is a small angle, like $\\delta=0.01$ or so. Each time through the loop 'cn' should\n",
    "be updated to its new value, just like 'x' had a new value in the example. Does\n",
    "the phasor appear to be doing something reasonable? Don't forget to include a 'rate'\n",
    "function so you can actually see the changes happening at a constant (and reasonable) rate."
   ]
  },
  {
   "cell_type": "markdown",
   "metadata": {},
   "source": [
    "Questions\n",
    "---------\n",
    "\n",
    "Please answer these questions at the end of your report.\n",
    "\n",
    "1) What happens to the magnitude of the complex number 'cn' during the execution of your loop?\n",
    "\n",
    "2) What happens to the phase of the complex number 'cn' during the execution of your loop?\n",
    "\n",
    "3) How many iterations of your loop does it take for the phasor representation to complete a\n",
    "full cycle? Can you explain why this is a reasonable amount of time?\n",
    "\n",
    "4) What is the cartesian form of the number `c`? Demonstrate analytically that multiplying by this\n",
    "number has the effect you observed on both the magnitude and the angle of the phasor?\n"
   ]
  },
  {
   "cell_type": "code",
   "execution_count": null,
   "metadata": {
    "collapsed": true
   },
   "outputs": [],
   "source": []
  }
 ],
 "metadata": {
  "kernelspec": {
   "display_name": "VPython",
   "language": "python",
   "name": "vpython"
  },
  "language_info": {
   "codemirror_mode": {
    "name": "ipython",
    "version": 3
   },
   "file_extension": ".py",
   "mimetype": "text/x-python",
   "name": "python",
   "nbconvert_exporter": "python",
   "pygments_lexer": "ipython3",
   "version": "3.6.0"
  }
 },
 "nbformat": 4,
 "nbformat_minor": 2
}
